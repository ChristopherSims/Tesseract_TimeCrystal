{
 "cells": [
  {
   "cell_type": "code",
   "execution_count": 1,
   "metadata": {},
   "outputs": [],
   "source": [
    "#conda install -c conda-forge cuquantum-python\n",
    "#!pip install requirements.txt"
   ]
  },
  {
   "cell_type": "code",
   "execution_count": 2,
   "metadata": {},
   "outputs": [],
   "source": [
    "from DTC_UTIL import *"
   ]
  },
  {
   "cell_type": "code",
   "execution_count": 3,
   "metadata": {},
   "outputs": [],
   "source": [
    "#Define model parameters\n",
    "sq = 4\n",
    "N_QUBITS = sq**2\n",
    "num_cycles = 50\n",
    "qubits = cirq.GridQubit.square(sq)\n",
    "qubits_sq = np.reshape(qubits, [sq,sq])"
   ]
  },
  {
   "cell_type": "code",
   "execution_count": 4,
   "metadata": {},
   "outputs": [],
   "source": [
    "#Set variables\n",
    "theta = np.pi/2 # Rotating gates\n",
    "phi = np.pi/2   #coupling gates\n",
    "Rotate = Rx # Rotating gates: Rx,Ry,Rz ONLY\n",
    "Coupling = ZZ # coupling gates: XX,YY,ZZ\n",
    "\n",
    "# Define the error rates\n",
    "depolarizing_error_rate = 0.01\n",
    "phase_damping_error_rate = 0.01\n",
    "amplitude_damping_error_rate = 0.01\n",
    "Q_noise_model = QubitNoiseModel(depolarizing_error_rate, phase_damping_error_rate, amplitude_damping_error_rate)\n",
    "\n",
    "initial_states = np.ones(N_QUBITS) ## Autocorrelate to 1\n"
   ]
  },
  {
   "cell_type": "code",
   "execution_count": 5,
   "metadata": {},
   "outputs": [],
   "source": [
    "#Run model\n",
    "floq_circuit,maxk = Circuit_list_2D(\n",
    "                    THETA= theta,\n",
    "                    PHI= phi,\n",
    "                    qubits = qubits_sq,\n",
    "                    sq = sq, \n",
    "                    cycles = num_cycles,\n",
    "                    n_qubits = N_QUBITS,\n",
    "                    gate_rotate = Rotate,\n",
    "                    gate_coupling = Coupling\n",
    "                    )\n",
    "result = simulate_circuit_list(floq_circuit,maxk)\n",
    "dtc_z = np.transpose(get_polarizations(result, N_QUBITS,initial_states=initial_states))"
   ]
  },
  {
   "cell_type": "code",
   "execution_count": 8,
   "metadata": {},
   "outputs": [
    {
     "name": "stdout",
     "output_type": "stream",
     "text": [
      "(16, 50)\n"
     ]
    },
    {
     "data": {
      "image/png": "[encoded data removed]",
      "text/plain": [
       "<Figure size 864x576 with 1 Axes>"
      ]
     },
     "metadata": {
      "needs_background": "light"
     },
     "output_type": "display_data"
    }
   ],
   "source": [
    "f = Plot_Pol(dtc_z,num_cycles,N_QUBITS)"
   ]
  }
 ],
 "metadata": {
  "kernelspec": {
   "display_name": "base",
   "language": "python",
   "name": "python3"
  },
  "language_info": {
   "codemirror_mode": {
    "name": "ipython",
    "version": 3
   },
   "file_extension": ".py",
   "mimetype": "text/x-python",
   "name": "python",
   "nbconvert_exporter": "python",
   "pygments_lexer": "ipython3",
   "version": "3.9.12"
  },
  "orig_nbformat": 4
 },
 "nbformat": 4,
 "nbformat_minor": 2
}
